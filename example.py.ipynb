{
 "cells": [
  {
   "cell_type": "code",
   "execution_count": 1,
   "metadata": {
    "collapsed": true
   },
   "outputs": [],
   "source": [
    "import numpy as np\n",
    "import pypianoroll"
   ]
  },
  {
   "cell_type": "code",
   "execution_count": 29,
   "metadata": {},
   "outputs": [
    {
     "data": {
      "text/plain": [
       "array([[ 38,  32, 112, ...,  10,  41,  49],\n",
       "       [ 81,  38,  42, ..., 125, 117, 117],\n",
       "       [ 64,  52, 119, ..., 115, 106,  73],\n",
       "       ..., \n",
       "       [ 44,  45,  45, ...,  33,  99,  12],\n",
       "       [ 87,  77,  37, ...,  53,  92,  37],\n",
       "       [ 33, 102, 115, ..., 125,  30, 108]])"
      ]
     },
     "execution_count": 29,
     "metadata": {},
     "output_type": "execute_result"
    }
   ],
   "source": [
    "pianoroll = np.random.randint(0, 127, (96, 128))\n",
    "track = pypianoroll.Track(pianoroll, lowest=0)\n",
    "multitrack = pypianoroll.Multitrack(tracks=[track],tempo=120.0)\n",
    "pianoroll"
   ]
  },
  {
   "cell_type": "code",
   "execution_count": 22,
   "metadata": {},
   "outputs": [
    {
     "data": {
      "text/plain": [
       "array([[  8,  80,  62, ...,  83,  18, 111],\n",
       "       [ 71,  91,  57, ...,  91,  45,  84],\n",
       "       [ 17, 120,  29, ...,  79,  19,  15],\n",
       "       ..., \n",
       "       [118,  35,  38, ...,  67,  39,  77],\n",
       "       [ 57,  63,  34, ...,  42,  34,  82],\n",
       "       [115,  60,  21, ..., 100,  11,  81]])"
      ]
     },
     "execution_count": 22,
     "metadata": {},
     "output_type": "execute_result"
    }
   ],
   "source": [
    "track.clip(20, 100)\n",
    "pianoroll"
   ]
  },
  {
   "cell_type": "code",
   "execution_count": 23,
   "metadata": {},
   "outputs": [
    {
     "data": {
      "text/plain": [
       "array([[  8,  80,  62, ...,  83,  18, 111],\n",
       "       [ 71,  91,  57, ...,  91,  45,  84],\n",
       "       [ 17, 120,  29, ...,  79,  19,  15],\n",
       "       ..., \n",
       "       [118,  35,  38, ...,  67,  39,  77],\n",
       "       [ 57,  63,  34, ...,  42,  34,  82],\n",
       "       [115,  60,  21, ..., 100,  11,  81]])"
      ]
     },
     "execution_count": 23,
     "metadata": {},
     "output_type": "execute_result"
    }
   ],
   "source": [
    "multitrack.clip(40, 80)\n",
    "pianoroll"
   ]
  },
  {
   "cell_type": "code",
   "execution_count": 30,
   "metadata": {},
   "outputs": [
    {
     "name": "stdout",
     "output_type": "stream",
     "text": [
      "(96L, 113L) 10\n"
     ]
    }
   ],
   "source": [
    "track.pianoroll[:,:10] = 0 # set the velocites of notes with the lowest two pitches to zero\n",
    "track.pianoroll[:,-5:] = 0 # set the velocites of notes with the highest pitch to zero\n",
    "track.compress_to_active()\n",
    "print track.pianoroll.shape, track.lowest"
   ]
  },
  {
   "cell_type": "code",
   "execution_count": 31,
   "metadata": {},
   "outputs": [
    {
     "name": "stdout",
     "output_type": "stream",
     "text": [
      "(96L, 93L) 20\n"
     ]
    }
   ],
   "source": [
    "track.pianoroll[:,:2] = 0 # set the velocites of notes with the lowest five pitches to zero\n",
    "track.pianoroll[:,-3:] = 0 # set the velocites of notes with the highest ten pitches to zero\n",
    "multitrack.compress_to_active()\n",
    "print track.pianoroll.shape, track.lowest"
   ]
  },
  {
   "cell_type": "code",
   "execution_count": 26,
   "metadata": {},
   "outputs": [
    {
     "name": "stdout",
     "output_type": "stream",
     "text": [
      "(96L, 41L) 20\n"
     ]
    }
   ],
   "source": [
    "track.expand(20, 60)\n",
    "print track.pianoroll.shape, track.lowest"
   ]
  },
  {
   "cell_type": "code",
   "execution_count": 19,
   "metadata": {},
   "outputs": [
    {
     "name": "stdout",
     "output_type": "stream",
     "text": [
      "(96L, 128L) 0\n"
     ]
    }
   ],
   "source": [
    "multitrack.expand(0, 127)\n",
    "print track.pianoroll.shape, track.lowest"
   ]
  },
  {
   "cell_type": "code",
   "execution_count": null,
   "metadata": {
    "collapsed": true
   },
   "outputs": [],
   "source": []
  }
 ],
 "metadata": {
  "kernelspec": {
   "display_name": "Python 2",
   "language": "python",
   "name": "python2"
  },
  "language_info": {
   "codemirror_mode": {
    "name": "ipython",
    "version": 2
   },
   "file_extension": ".py",
   "mimetype": "text/x-python",
   "name": "python",
   "nbconvert_exporter": "python",
   "pygments_lexer": "ipython2",
   "version": "2.7.13"
  }
 },
 "nbformat": 4,
 "nbformat_minor": 2
}
